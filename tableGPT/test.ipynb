{
 "cells": [
  {
   "cell_type": "code",
   "execution_count": 2,
   "metadata": {},
   "outputs": [],
   "source": [
    "import numpy as np\n",
    "import pandas as pd\n",
    "import requests\n",
    "import json\n",
    "import rdflib\n",
    "from tqdm import tqdm\n",
    "path = './tkgl-smallpedia/tkgl-smallpedia_'\n",
    "edge_list = pd.read_csv(path+'edgelist.csv')\n",
    "edge_list_named = pd.read_csv(path+'edgelist_named.csv').drop('Unnamed: 0', axis=1, inplace=False)\n",
    "edgde_list_named = edge_list_named\n",
    "edge_list_named_pred = pd.read_csv('./llm_output.csv').drop('Unnamed: 0', axis=1, inplace=False)"
   ]
  },
  {
   "cell_type": "code",
   "execution_count": 3,
   "metadata": {},
   "outputs": [],
   "source": [
    "def extract_train(df, last_year):\n",
    "  df_train = df[df['ts'] < last_year]\n",
    "  df_test = df[df['ts'] == last_year + 1]\n",
    "  return df_train, df_test\n",
    "\n",
    "df_train, df_test = extract_train(edgde_list_named, 1925)"
   ]
  },
  {
   "cell_type": "code",
   "execution_count": 48,
   "metadata": {},
   "outputs": [],
   "source": [
    "def create_ranked_relations(pred_df, gt_df):\n",
    "    \"\"\"\n",
    "    Creates a new dataframe with the rank of the correct relation in the predicted relations list.\n",
    "    \n",
    "    Parameters:\n",
    "    pred_df: DataFrame with columns 'head', 'tail', 'pred_rel' (list of predicted relations)\n",
    "    gt_df: DataFrame with columns 'head', 'tail', 'relation' (ground truth relation)\n",
    "    \n",
    "    Returns:\n",
    "    DataFrame with columns 'head', 'tail', 'rank' (-1 if not in predictions)\n",
    "    \"\"\"\n",
    "    results = []\n",
    "    \n",
    "    # Create a dictionary for faster lookup of ground truth relations\n",
    "    gt_dict = {(row['head'], row['tail']): row['relation_type'] \n",
    "               for _, row in gt_df.iterrows()}\n",
    "    \n",
    "    \n",
    "    # Process each prediction\n",
    "    for _, row in pred_df.iterrows():\n",
    "        head = row['head']\n",
    "        tail = row['tail']\n",
    "        pred_relations = np.array(eval(row['pred_rel']))\n",
    "        \n",
    "        # Get ground truth relation if it exists\n",
    "        true_relation = gt_dict.get((head, tail))\n",
    "        \n",
    "        \n",
    "        if true_relation is None:\n",
    "            # If no ground truth exists for this pair\n",
    "            rank = -1\n",
    "        else:\n",
    "            # Find position of true relation in predictions\n",
    "            if true_relation in pred_relations:\n",
    "                rank = np.argwhere(pred_relations==true_relation) + 1\n",
    "                rank = rank[0][0]\n",
    "            else:\n",
    "                rank = -1  \n",
    "        \n",
    "        results.append({\n",
    "            'head': head,\n",
    "            'tail': tail,\n",
    "            'rank': rank\n",
    "        })\n",
    "    \n",
    "    return pd.DataFrame(results)\n",
    "\n",
    "# Usage example:\n",
    "ranked_df = create_ranked_relations(edge_list_named_pred, df_test)"
   ]
  },
  {
   "cell_type": "code",
   "execution_count": 57,
   "metadata": {},
   "outputs": [],
   "source": [
    "def compute_MRR(df_ranked):\n",
    "    MRR = 0\n",
    "    for rank in df_ranked['rank']:\n",
    "        if rank == -1:\n",
    "            continue\n",
    "        MRR +=1/rank\n",
    "    return MRR/len(ranked_df)"
   ]
  }
 ],
 "metadata": {
  "kernelspec": {
   "display_name": "LLM",
   "language": "python",
   "name": "python3"
  },
  "language_info": {
   "codemirror_mode": {
    "name": "ipython",
    "version": 3
   },
   "file_extension": ".py",
   "mimetype": "text/x-python",
   "name": "python",
   "nbconvert_exporter": "python",
   "pygments_lexer": "ipython3",
   "version": "3.11.11"
  }
 },
 "nbformat": 4,
 "nbformat_minor": 2
}
