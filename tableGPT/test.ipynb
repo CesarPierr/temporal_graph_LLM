{
 "cells": [
  {
   "cell_type": "code",
   "execution_count": 21,
   "metadata": {},
   "outputs": [],
   "source": [
    "import numpy as np\n",
    "import pandas as pd\n",
    "import requests\n",
    "import json\n",
    "import rdflib\n",
    "from tqdm import tqdm\n",
    "path = './tkgl-smallpedia/tkgl-smallpedia_'\n",
    "edge_list = pd.read_csv(path+'edgelist.csv')\n",
    "relation_mapping = pd.read_csv(path+'relation_mapping.csv')\n",
    "entity_mapping = pd.read_csv(path+'entity_mapping.csv')"
   ]
  },
  {
   "cell_type": "code",
   "execution_count": 31,
   "metadata": {},
   "outputs": [],
   "source": [
    "unique_ents = entity_mapping['Unnamed: 0']\n",
    "unique_ent_nameds = entity_mapping['label']\n",
    "dict_ent = {}\n",
    "for unique_ent, unique_ent_named in zip(unique_ents, unique_ent_nameds):\n",
    "    dict_ent[unique_ent] = unique_ent_named\n",
    "\n",
    "unique_ents = relation_mapping['Unnamed: 0']\n",
    "unique_ent_nameds = relation_mapping['label']\n",
    "dict_rel = {}\n",
    "for unique_ent, unique_ent_named in zip(unique_ents, unique_ent_nameds):\n",
    "    dict_rel[unique_ent] = unique_ent_named"
   ]
  },
  {
   "cell_type": "code",
   "execution_count": 23,
   "metadata": {},
   "outputs": [],
   "source": [
    "df_named = pd.DataFrame()\n",
    "df_named['ts'] = edge_list['ts']"
   ]
  },
  {
   "cell_type": "code",
   "execution_count": 38,
   "metadata": {},
   "outputs": [
    {
     "name": "stderr",
     "output_type": "stream",
     "text": [
      "100%|██████████| 550376/550376 [00:00<00:00, 999860.64it/s] \n"
     ]
    }
   ],
   "source": [
    "heads, tails, rels = [], [], []\n",
    "for head, tail, rel in tqdm(edge_list.loc[:, ['head', 'tail', 'relation_type']].to_numpy()):\n",
    "    heads.append(dict_ent[head])\n",
    "    tails.append(dict_ent[tail])\n",
    "    rels.append(dict_rel[rel])\n",
    "df_named['head'] = heads\n",
    "df_named['tail'] = tails\n",
    "df_named['relation_type'] = rels\n",
    "\n",
    "df_named.to_csv(path+'edgelist_named.csv')"
   ]
  }
 ],
 "metadata": {
  "kernelspec": {
   "display_name": "LLM",
   "language": "python",
   "name": "python3"
  },
  "language_info": {
   "codemirror_mode": {
    "name": "ipython",
    "version": 3
   },
   "file_extension": ".py",
   "mimetype": "text/x-python",
   "name": "python",
   "nbconvert_exporter": "python",
   "pygments_lexer": "ipython3",
   "version": "3.11.11"
  }
 },
 "nbformat": 4,
 "nbformat_minor": 2
}
